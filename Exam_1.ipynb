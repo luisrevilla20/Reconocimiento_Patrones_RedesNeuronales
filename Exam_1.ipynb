{
  "nbformat": 4,
  "nbformat_minor": 0,
  "metadata": {
    "kernelspec": {
      "display_name": "Python 3",
      "language": "python",
      "name": "python3"
    },
    "language_info": {
      "codemirror_mode": {
        "name": "ipython",
        "version": 3
      },
      "file_extension": ".py",
      "mimetype": "text/x-python",
      "name": "python",
      "nbconvert_exporter": "python",
      "pygments_lexer": "ipython3",
      "version": "3.6.8"
    },
    "colab": {
      "name": "Exam_1.ipynb",
      "provenance": [],
      "collapsed_sections": [],
      "include_colab_link": true
    }
  },
  "cells": [
    {
      "cell_type": "markdown",
      "metadata": {
        "id": "view-in-github",
        "colab_type": "text"
      },
      "source": [
        "<a href=\"https://colab.research.google.com/github/luisrevilla20/Reconocimiento_Patrones_RedesNeuronales/blob/main/Exam_1.ipynb\" target=\"_parent\"><img src=\"https://colab.research.google.com/assets/colab-badge.svg\" alt=\"Open In Colab\"/></a>"
      ]
    },
    {
      "cell_type": "markdown",
      "metadata": {
        "id": "Mo9GT-PbwMue"
      },
      "source": [
        "# Questions\n",
        "---"
      ]
    },
    {
      "cell_type": "markdown",
      "metadata": {
        "id": "9g5gU70F1OvW"
      },
      "source": [
        "1. What is the difference between artificial intelligence, machine learning and deep learning? (6 points)\n",
        "\n",
        "R: Artificial intelligence son sistemas que imitan la inteligencia humana para realizar tareas en específico.\n",
        "   Machine learning es un conjunto de AI que ayudan a una computadora a como resolver un problema en específico.\n",
        "   Deep Learning es un tipo de aprendizaje que ayuda a clasificar y/o predecir."
      ]
    },
    {
      "cell_type": "markdown",
      "metadata": {
        "id": "FvkJ_1b1Uyeh"
      },
      "source": [
        "2. What is supervised learning? (6 points)\n",
        "\n",
        "R: El aprendizaje supervisado es una técnica para poder deducir la función que resuelve el problema a través de saber el input y el resultado final va entrenando un modelo para así poder descubrir la solución."
      ]
    },
    {
      "cell_type": "markdown",
      "metadata": {
        "id": "Vu75lHt0XMjS"
      },
      "source": [
        "3. What does the loss function represent? (6 points)\n",
        "\n",
        "R: La función de perdida es el error que tiene el modelo en comparación a la respuesta real. Ayuda a ir ajustando el modelo."
      ]
    },
    {
      "cell_type": "markdown",
      "metadata": {
        "id": "L2yeG7jXa5Wg"
      },
      "source": [
        "4. Describe, in your own words, what are the weights of a neural network, and what kind of data do they store. (6 points)\n",
        "\n",
        "R: Los pesos son los valores que nos ayudan a ver que nodo tendrá la mayor importancia."
      ]
    },
    {
      "cell_type": "markdown",
      "metadata": {
        "id": "2u1nKgFlb82n"
      },
      "source": [
        "5. What does the 'deep' in deep learning mean? (6 points)\n",
        "\n",
        "R: La profundidad se refiere al número de capas que el modelo tiene."
      ]
    },
    {
      "cell_type": "markdown",
      "metadata": {
        "id": "oKiAoLQ43zpK"
      },
      "source": [
        "# Simple Neural Network\n",
        "\n",
        "Complete the notebook so that you can run the following model on the XOR data set."
      ]
    },
    {
      "cell_type": "markdown",
      "metadata": {
        "id": "FRZ78OVFnZf7"
      },
      "source": [
        "![Neural network](https://drive.google.com/uc?id=1jXT22Gd4hMQDJTrNLDRYSMCdCxH1dQ2t)"
      ]
    },
    {
      "cell_type": "markdown",
      "metadata": {
        "id": "SrCHhuil3zpN"
      },
      "source": [
        "## Import the necessary packages"
      ]
    },
    {
      "cell_type": "code",
      "metadata": {
        "id": "coZw5AfK3zpO"
      },
      "source": [
        "import numpy as np\n",
        "import random, math\n",
        "import matplotlib.pyplot as plt"
      ],
      "execution_count": 1,
      "outputs": []
    },
    {
      "cell_type": "markdown",
      "metadata": {
        "id": "cvwK0iNgOy6m"
      },
      "source": [
        "## Define auxiliary functions"
      ]
    },
    {
      "cell_type": "markdown",
      "metadata": {
        "id": "PX1r2cDDe75l"
      },
      "source": [
        "### Define the sigmoid and sigmoid derivative functions (10 points)"
      ]
    },
    {
      "cell_type": "code",
      "metadata": {
        "id": "UgIwVBObOyJ-"
      },
      "source": [
        "# TODO: Define the sigmoid function, as well as the derivative of the function\n",
        "\n",
        "def sigmoid(x):\n",
        "  ''' Calculates the sigmoid function on a set of data\n",
        "\n",
        "    Args:\n",
        "      x (np array): the array on which you apply the sigmoid function\n",
        "    \n",
        "  '''\n",
        "  return 1 / (1 + np.exp(-x))\n",
        "\n",
        "def sigmoid_derivative(x):\n",
        "  ''' Calculates the derivative of the sigmoid function\n",
        "\n",
        "    Args:\n",
        "      x (np array): the array on which you apply the derivative sigmoid function\n",
        "    \n",
        "  '''\n",
        "  return sigmoid(x) * (1 - sigmoid(x))"
      ],
      "execution_count": 2,
      "outputs": []
    },
    {
      "cell_type": "markdown",
      "metadata": {
        "id": "s23AzrfWfCFt"
      },
      "source": [
        "### Define the loss function (5 points)"
      ]
    },
    {
      "cell_type": "code",
      "metadata": {
        "id": "9sMoc-SEO7Ve"
      },
      "source": [
        "# TODO: Define the loss function\n",
        "\n",
        "def loss(y_hat, y):\n",
        "  ''' Calculates the error of a prediction based on an input\n",
        "\n",
        "  Args:\n",
        "    y_hat (np array): the predictions of the model\n",
        "    y (np array): the labels of the data inputs\n",
        "\n",
        "  Returns:\n",
        "    np array: an array with the errors for each prediction\n",
        "  '''\n",
        "  return -(y * np.log(y_hat) + (1-y) * np.log(1-y_hat))"
      ],
      "execution_count": 3,
      "outputs": []
    },
    {
      "cell_type": "markdown",
      "metadata": {
        "id": "p6fMFlIffGmD"
      },
      "source": [
        "### Define the predict function (15 points)"
      ]
    },
    {
      "cell_type": "code",
      "metadata": {
        "id": "JkrLt8XfO9Od"
      },
      "source": [
        "# TODO: Define the predict function\n",
        "\n",
        "def predict(weights, b, input):\n",
        "  ''' Makes a prediction on an input\n",
        "\n",
        "  Args:\n",
        "    weights (np array): The array of weights of a given layer of the model\n",
        "    b (np array):  The array of biases for a given layer of the model\n",
        "    input (np array): The input on which to predict\n",
        "\n",
        "  Returns:\n",
        "    tuple of np arrays: Tuple containing the value of z = W Input + b, and a = sigmoid(z)\n",
        "  '''\n",
        "  return np.dot(weights, input) + b , sigmoid(np.dot(weights, input) + b )"
      ],
      "execution_count": 4,
      "outputs": []
    },
    {
      "cell_type": "markdown",
      "metadata": {
        "id": "jaL6flNj_Hye"
      },
      "source": [
        "## Training with the XOR dataset"
      ]
    },
    {
      "cell_type": "markdown",
      "metadata": {
        "id": "SzaepJ6MVDmc"
      },
      "source": [
        "### Input data set"
      ]
    },
    {
      "cell_type": "code",
      "metadata": {
        "id": "MnLCgH4R_HR_",
        "colab": {
          "base_uri": "https://localhost:8080/"
        },
        "outputId": "ac02f9cc-f66d-4747-fe8d-fdb91da35bd1"
      },
      "source": [
        "XOR = np.array([[0,0], [0,1], [1,0], [1,1]]).T\n",
        "print(f\"XOR data: \\n{XOR}\\nShape: {XOR.shape}\")\n",
        "\n",
        "XOR_labels = np.array([[0, 1, 1, 0]])\n",
        "print(f\"XOR labels: \\n{XOR_labels}\\nShape: {XOR_labels.shape})\")\n",
        "\n",
        "number_inputs = 4"
      ],
      "execution_count": 5,
      "outputs": [
        {
          "output_type": "stream",
          "text": [
            "XOR data: \n",
            "[[0 0 1 1]\n",
            " [0 1 0 1]]\n",
            "Shape: (2, 4)\n",
            "XOR labels: \n",
            "[[0 1 1 0]]\n",
            "Shape: (1, 4))\n"
          ],
          "name": "stdout"
        }
      ]
    },
    {
      "cell_type": "markdown",
      "metadata": {
        "id": "xQN6xpdqR5Mc"
      },
      "source": [
        "### Run the training step (30 points)"
      ]
    },
    {
      "cell_type": "code",
      "metadata": {
        "id": "TYOrmzT5R4oo",
        "colab": {
          "base_uri": "https://localhost:8080/"
        },
        "outputId": "d2ef9738-38e3-47d2-bc11-18ecc3c1ad8b"
      },
      "source": [
        "np.random.seed(42)\n",
        "\n",
        "# TODO: initialize the needed matrices of weights with random values. Check np.random.randn\n",
        "weights_1 = np.random.randn(2, 3)\n",
        "weights_2 = np.random.randn(3, 1)\n",
        "\n",
        "# TODO: initialize the needed biases with random values. Check np.random.randn\n",
        "b_1 = np.random.randn(3, 1)\n",
        "b_2 = np.random.randn(1, )\n",
        "\n",
        "# TODO: initialize the learning rate\n",
        "alpha = 0.1\n",
        "\n",
        "errors = []\n",
        "\n",
        "for epoch in range(5000):\n",
        "\n",
        "  # Forward propagation - prediction\n",
        "\n",
        "  # TODO: Make a prediction using the previous method\n",
        "  input = XOR\n",
        "  m, n = input.shape\n",
        "\n",
        "  # z = W Input + b\n",
        "  # a = sigmoid(z) dyh_hat\n",
        "  z, a = predict(weights_1.T, b_1, input) #Hidden layer\n",
        "  z2, a2 = predict(weights_2.T, b_2, a) #Output layer\n",
        "\n",
        "  \n",
        "  # TODO: Calculate the error at the output layer\n",
        "  J = np.mean(loss(a2, XOR_labels))\n",
        "\n",
        "  errors.append(J)\n",
        "\n",
        "  # TODO: Calculate the derivatives for the output layer\n",
        "  dyo = a2 - XOR_labels\n",
        "  dw2 = np.dot(dyo, a.T) * 1/n\n",
        "  db2 = np.sum(dyo) * 1/n\n",
        "  \n",
        "  # TODO: Calculate the derivative at the hidden layer\n",
        "  \n",
        "  dyh = np.dot(weights_2, dyo) * sigmoid_derivative(np.dot(weights_1.T, XOR) + b_1)\n",
        "  dw1 = np.dot(dyh, XOR.T) * 1/n\n",
        "  db1 = np.sum(dyh) * 1/n\n",
        "\n",
        "  # TODO: Update the weights\n",
        "  weights_2 -= dw2.T * alpha\n",
        "  weights_1 -= dw1.T * alpha\n",
        "\n",
        "  # TODO: Update the biases\n",
        "  b_2 -= db2 * alpha\n",
        "  b_1 -= db1 * alpha\n",
        "\n",
        "  # Print the error after a number of epochs\n",
        "  if epoch % 100 == 0:\n",
        "    print(f\"Error at epoch {epoch}: {J}\")"
      ],
      "execution_count": 6,
      "outputs": [
        {
          "output_type": "stream",
          "text": [
            "Error at epoch 0: 0.9599553614571963\n",
            "Error at epoch 100: 0.6853835397549717\n",
            "Error at epoch 200: 0.68159145437637\n",
            "Error at epoch 300: 0.6774110680859287\n",
            "Error at epoch 400: 0.6725772362625047\n",
            "Error at epoch 500: 0.6668269822972319\n",
            "Error at epoch 600: 0.6598668557608673\n",
            "Error at epoch 700: 0.6513717816817601\n",
            "Error at epoch 800: 0.640997460265078\n",
            "Error at epoch 900: 0.6284013623730892\n",
            "Error at epoch 1000: 0.6132610576274959\n",
            "Error at epoch 1100: 0.5952862596338483\n",
            "Error at epoch 1200: 0.5742446679406881\n",
            "Error at epoch 1300: 0.5500258381867613\n",
            "Error at epoch 1400: 0.5227250519487759\n",
            "Error at epoch 1500: 0.4926929629380224\n",
            "Error at epoch 1600: 0.4605222855781441\n",
            "Error at epoch 1700: 0.42698797129652527\n",
            "Error at epoch 1800: 0.3929674590473885\n",
            "Error at epoch 1900: 0.35935345555801523\n",
            "Error at epoch 2000: 0.32696456480088365\n",
            "Error at epoch 2100: 0.29646598532955076\n",
            "Error at epoch 2200: 0.2683185711628083\n",
            "Error at epoch 2300: 0.24276777571277788\n",
            "Error at epoch 2400: 0.21986887573199754\n",
            "Error at epoch 2500: 0.1995335217215027\n",
            "Error at epoch 2600: 0.18158095280448383\n",
            "Error at epoch 2700: 0.16578240121976873\n",
            "Error at epoch 2800: 0.15189388285982708\n",
            "Error at epoch 2900: 0.1396773809715693\n",
            "Error at epoch 3000: 0.12891272730600695\n",
            "Error at epoch 3100: 0.11940298550180926\n",
            "Error at epoch 3200: 0.1109757562762012\n",
            "Error at epoch 3300: 0.10348217715067379\n",
            "Error at epoch 3400: 0.09679478664603164\n",
            "Error at epoch 3500: 0.09080496455057682\n",
            "Error at epoch 3600: 0.08542034818381201\n",
            "Error at epoch 3700: 0.08056242805939702\n",
            "Error at epoch 3800: 0.07616440979934387\n",
            "Error at epoch 3900: 0.07216936409857404\n",
            "Error at epoch 4000: 0.0685286529000524\n",
            "Error at epoch 4100: 0.06520060460077803\n",
            "Error at epoch 4200: 0.06214940593362368\n",
            "Error at epoch 4300: 0.0593441783089841\n",
            "Error at epoch 4400: 0.056758209061409076\n",
            "Error at epoch 4500: 0.05436831168268081\n",
            "Error at epoch 4600: 0.05215429291813245\n",
            "Error at epoch 4700: 0.050098508159160726\n",
            "Error at epoch 4800: 0.04818548971507455\n",
            "Error at epoch 4900: 0.046401635247849016\n"
          ],
          "name": "stdout"
        }
      ]
    },
    {
      "cell_type": "markdown",
      "metadata": {
        "id": "_UpV7vq8VIHa"
      },
      "source": [
        "## Plotting the errors you stored"
      ]
    },
    {
      "cell_type": "code",
      "metadata": {
        "id": "RFdQgJ26UNl0",
        "colab": {
          "base_uri": "https://localhost:8080/",
          "height": 301
        },
        "outputId": "1b563945-9079-4a3e-c010-a377cee018c2"
      },
      "source": [
        "fig, ax = plt.subplots(1,1)\n",
        "ax.set_xlabel('Epoch')\n",
        "ax.set_ylabel('Error')\n",
        "\n",
        "ax.plot(errors)"
      ],
      "execution_count": 7,
      "outputs": [
        {
          "output_type": "execute_result",
          "data": {
            "text/plain": [
              "[<matplotlib.lines.Line2D at 0x7fef4b882b50>]"
            ]
          },
          "metadata": {
            "tags": []
          },
          "execution_count": 7
        },
        {
          "output_type": "display_data",
          "data": {
            "image/png": "[encoded data removed]",
            "text/plain": [
              "<Figure size 432x288 with 1 Axes>"
            ]
          },
          "metadata": {
            "tags": [],
            "needs_background": "light"
          }
        }
      ]
    },
    {
      "cell_type": "markdown",
      "metadata": {
        "id": "OrWEvSuIVURj"
      },
      "source": [
        "## Make a prediction on the data points to test the model (15 points)"
      ]
    },
    {
      "cell_type": "code",
      "metadata": {
        "scrolled": true,
        "id": "4hwRiwBA3zpR",
        "colab": {
          "base_uri": "https://localhost:8080/"
        },
        "outputId": "3f58fe3c-17a0-45c4-a985-f0c1fa0e6bd3"
      },
      "source": [
        "# TODO: Predict on the sample input\n",
        "print(\"\\nOutput of the input After Training:\\n\")\n",
        "np.set_printoptions(suppress=True)\n",
        "\n",
        "input = XOR\n",
        "\n",
        "predict(weights_1.T, b_1, input)\n",
        "\n",
        "print(input, dyo)\n"
      ],
      "execution_count": 11,
      "outputs": [
        {
          "output_type": "stream",
          "text": [
            "\n",
            "Output of the input After Training:\n",
            "\n",
            "[[0 0 1 1]\n",
            " [0 1 0 1]] [[ 0.04224706 -0.04085535 -0.04084609  0.05107141]]\n"
          ],
          "name": "stdout"
        }
      ]
    }
  ]
}
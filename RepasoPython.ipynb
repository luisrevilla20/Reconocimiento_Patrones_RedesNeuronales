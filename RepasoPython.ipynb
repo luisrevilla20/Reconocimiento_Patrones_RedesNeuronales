{
  "nbformat": 4,
  "nbformat_minor": 0,
  "metadata": {
    "colab": {
      "name": "RepasoPython.ipynb",
      "provenance": [],
      "authorship_tag": "ABX9TyNbErw2HNcUFGiLz9m3riCo",
      "include_colab_link": true
    },
    "kernelspec": {
      "name": "python3",
      "display_name": "Python 3"
    },
    "language_info": {
      "name": "python"
    }
  },
  "cells": [
    {
      "cell_type": "markdown",
      "metadata": {
        "id": "view-in-github",
        "colab_type": "text"
      },
      "source": [
        "<a href=\"https://colab.research.google.com/github/luisrevilla20/Reconocimiento_Patrones_RedesNeuronales/blob/main/RepasoPython.ipynb\" target=\"_parent\"><img src=\"https://colab.research.google.com/assets/colab-badge.svg\" alt=\"Open In Colab\"/></a>"
      ]
    },
    {
      "cell_type": "markdown",
      "metadata": {
        "id": "RksrHJQHV2Vr"
      },
      "source": [
        "# Título de la celda\n",
        "\n",
        "Esto es una celda de texto.\n",
        "\n",
        "*Texto en itálica*\n",
        "**Texto en bold**\n",
        "\n",
        "* Lista\n",
        "  * Elemento 1\n",
        "  * elemento 2"
      ]
    },
    {
      "cell_type": "code",
      "metadata": {
        "id": "8A3lMBKM8nMx",
        "colab": {
          "base_uri": "https://localhost:8080/"
        },
        "outputId": "08f918aa-b42a-428b-d550-2294bd6308d1"
      },
      "source": [
        "import math, random, string\n",
        "import sys\n",
        "\n",
        "print(sys.version)"
      ],
      "execution_count": null,
      "outputs": [
        {
          "output_type": "stream",
          "text": [
            "3.7.10 (default, May  3 2021, 02:48:31) \n",
            "[GCC 7.5.0]\n"
          ],
          "name": "stdout"
        }
      ]
    },
    {
      "cell_type": "code",
      "metadata": {
        "colab": {
          "base_uri": "https://localhost:8080/"
        },
        "id": "s9tUk2QrWAC8",
        "outputId": "ef2873a6-4a00-43cc-dcda-33963c09bc6e"
      },
      "source": [
        "lista_numeros = [random.randint(1, 100) for num in range(10)] ## <----- list comprehension\n",
        "\n",
        "lista_numeros = []\n",
        "\n",
        "for i in range(10):\n",
        "  numero = random.randint(1, 100)\n",
        "  lista_numeros.append(numero)\n",
        "\n",
        "print(lista_numeros)"
      ],
      "execution_count": null,
      "outputs": [
        {
          "output_type": "stream",
          "text": [
            "[67, 4, 67, 90, 91, 26, 14, 16, 57, 3]\n"
          ],
          "name": "stdout"
        }
      ]
    },
    {
      "cell_type": "code",
      "metadata": {
        "colab": {
          "base_uri": "https://localhost:8080/"
        },
        "id": "eUhQh0qMWDDJ",
        "outputId": "979aeed3-c44c-41cd-e585-89fccc89a4bf"
      },
      "source": [
        "%timeit lista_numeros = [random.randint(1, 100) for num in range(10)]"
      ],
      "execution_count": null,
      "outputs": [
        {
          "output_type": "stream",
          "text": [
            "100000 loops, best of 5: 14 µs per loop\n"
          ],
          "name": "stdout"
        }
      ]
    },
    {
      "cell_type": "code",
      "metadata": {
        "colab": {
          "base_uri": "https://localhost:8080/"
        },
        "id": "sG6OMgecWGFD",
        "outputId": "20b2591f-151a-43f6-c377-f973f7032257"
      },
      "source": [
        "def prueba_for():\n",
        "  for i in range(10):\n",
        "    numero = random.randint(1, 100)\n",
        "    lista_numeros.append(numero)\n",
        "\n",
        "%timeit prueba_for()"
      ],
      "execution_count": null,
      "outputs": [
        {
          "output_type": "stream",
          "text": [
            "The slowest run took 4.31 times longer than the fastest. This could mean that an intermediate result is being cached.\n",
            "100000 loops, best of 5: 14.4 µs per loop\n"
          ],
          "name": "stdout"
        }
      ]
    },
    {
      "cell_type": "code",
      "metadata": {
        "colab": {
          "base_uri": "https://localhost:8080/"
        },
        "id": "xBYAhwabWJhM",
        "outputId": "0862b9be-a61a-4fe6-a897-7f3c4a9463c6"
      },
      "source": [
        "# diccionario\n",
        "a = {'llave1':2, 'llave2':212}\n",
        "print(a)\n",
        "\n",
        "print(a['llave2'])"
      ],
      "execution_count": null,
      "outputs": [
        {
          "output_type": "stream",
          "text": [
            "{'llave1': 2, 'llave2': 212}\n",
            "212\n"
          ],
          "name": "stdout"
        }
      ]
    },
    {
      "cell_type": "markdown",
      "metadata": {
        "id": "L_iwPC-nWOFh"
      },
      "source": [
        "#Ejercicios\n",
        "----"
      ]
    },
    {
      "cell_type": "markdown",
      "metadata": {
        "id": "om6YbZRkWSat"
      },
      "source": [
        "1. Escribe un programa que tenga una función que regrese diccionarios con las siguientes reglas:\n",
        " - Las llaves son números entre 1 y n, donde n es el tamaño del diccionario.\n",
        " - Los valores son cadenas de texto aleatorias de tamaño m."
      ]
    },
    {
      "cell_type": "code",
      "metadata": {
        "colab": {
          "base_uri": "https://localhost:8080/"
        },
        "id": "IS7OU2hYWU3F",
        "outputId": "54cf637b-529d-4dc1-e3e5-a16666e53206"
      },
      "source": [
        "def palabraRandom(m=10):\n",
        "  letras = string.ascii_letters\n",
        "  palabra = \"\".join([random.choice(letras) for _ in range(m)]) # <--- list comprehension\n",
        "  #for _ in range(m):\n",
        "  #  palabra += random.choice(letras) # <----- toma un valor aleatorio de una secuencia\n",
        "  \n",
        "  return \"\".join([random.choice(letras) for _ in range(m)]) #palabra #\"\".join(random.choices(letras, k=m))\n",
        "\n",
        "palabra = palabraRandom()\n",
        "print(palabra)"
      ],
      "execution_count": null,
      "outputs": [
        {
          "output_type": "stream",
          "text": [
            "eJdHqVvtWl\n"
          ],
          "name": "stdout"
        }
      ]
    },
    {
      "cell_type": "code",
      "metadata": {
        "colab": {
          "base_uri": "https://localhost:8080/"
        },
        "id": "eiiKltToWbvH",
        "outputId": "04017256-8fbf-4d65-dfe8-fdb9da4e556c"
      },
      "source": [
        "def diccionarioPalabras(n=10, m = 10):\n",
        "  a = {}\n",
        "\n",
        "  #for i in range(1, n+1):\n",
        "  #  a[i] = palabraRandom(m)\n",
        "     #a.update({i:palabraRandom(m)})\n",
        "\n",
        "  return dict([(i+1, palabraRandom(m)) for i in range(n)])\n",
        "\n",
        "print(diccionarioPalabras(5))"
      ],
      "execution_count": null,
      "outputs": [
        {
          "output_type": "stream",
          "text": [
            "{1: 'KRtgdAqSHc', 2: 'TxdVAdvegR', 3: 'fMLMhmzDQv', 4: 'zuzWUoKPBb', 5: 'GTbSluIvnF'}\n"
          ],
          "name": "stdout"
        }
      ]
    },
    {
      "cell_type": "markdown",
      "metadata": {
        "id": "6Dz14Z5lWoEo"
      },
      "source": [
        "2. Crea una función que, utilizando zip, reciba dos listas, y cree un diccionario con esas listas."
      ]
    },
    {
      "cell_type": "code",
      "metadata": {
        "colab": {
          "base_uri": "https://localhost:8080/"
        },
        "id": "URxUuhxNWqDx",
        "outputId": "1057581e-c480-4daa-d1cc-d6226f68d99b"
      },
      "source": [
        "def diccionario_zip(lista_1, lista_2):\n",
        "  z = zip(lista_1, lista_2)\n",
        "\n",
        "  #for valor in z:\n",
        "  #  print(valor)\n",
        "\n",
        "  dict_listas = dict(z)\n",
        "  return dict_listas\n",
        "\n",
        "lista_1 = [2, 3, 1]\n",
        "lista_2 = ['b', 'a', 'c']\n",
        "#lista_1 = [random.choice(string.ascii_letters) for _ in range(5)]\n",
        "#lista_2 = [random.choice(string.ascii_letters) for _ in range(3)]\n",
        "\n",
        "print(diccionario_zip(lista_1, lista_2))"
      ],
      "execution_count": null,
      "outputs": [
        {
          "output_type": "stream",
          "text": [
            "{2: 'b', 3: 'a', 1: 'c'}\n"
          ],
          "name": "stdout"
        }
      ]
    },
    {
      "cell_type": "markdown",
      "metadata": {
        "id": "nAW_iHDmWr8M"
      },
      "source": [
        "3. Escribe un programa que concatene diccionarios en uno nuevo. En caso de haber llaves repetidas, no actualices el valor de la llave, y solamente avisa que esa llave ya existe."
      ]
    },
    {
      "cell_type": "code",
      "metadata": {
        "colab": {
          "base_uri": "https://localhost:8080/"
        },
        "id": "uwKJLkEVWs_w",
        "outputId": "755e6592-d8da-4728-8424-909c780839c6"
      },
      "source": [
        "dict_1 = {1: 3, 2: 5, 3: 7}\n",
        "dict_2 = {4: 8, 5: 9, 1: 2}\n",
        "\n",
        "dict_3 = {}\n",
        "\n",
        "dict_3.update(dict_1)\n",
        "\n",
        "for key, value in dict_2.items():\n",
        "  if key in dict_3.keys():\n",
        "    print(f\"ya tiene la llave {key}, con el valor {value}\")\n",
        "  else:\n",
        "    dict_3[key] = value\n",
        "\n",
        "print(dict_3)"
      ],
      "execution_count": null,
      "outputs": [
        {
          "output_type": "stream",
          "text": [
            "ya tiene la llave 1, con el valor 2\n",
            "{1: 3, 2: 5, 3: 7, 4: 8, 5: 9}\n"
          ],
          "name": "stdout"
        }
      ]
    },
    {
      "cell_type": "markdown",
      "metadata": {
        "id": "DCjZfbOTWvxW"
      },
      "source": [
        "4. Escribe una función que ordene, de manera ascendente, una lista con diccionarios en base a una de sus llaves."
      ]
    },
    {
      "cell_type": "code",
      "metadata": {
        "colab": {
          "base_uri": "https://localhost:8080/"
        },
        "id": "9p_YKo1aWzgM",
        "outputId": "bc0e6e1f-b0e2-4f74-97de-13cc48d95c9b"
      },
      "source": [
        "lista_diccionarios = [{1:5, 2:2, 3:5},{2:5, 3:6, 1:7}, {3:3, 2:1, 1:4}]\n",
        "\n",
        "print(sorted(lista_diccionarios, key=lambda x: x[2]))"
      ],
      "execution_count": null,
      "outputs": [
        {
          "output_type": "stream",
          "text": [
            "[{3: 3, 2: 1, 1: 4}, {1: 5, 2: 2, 3: 5}, {2: 5, 3: 6, 1: 7}]\n"
          ],
          "name": "stdout"
        }
      ]
    },
    {
      "cell_type": "markdown",
      "metadata": {
        "id": "A97jKrQPW4VB"
      },
      "source": [
        "5. Escribe una función que genere una lista de números pares usando list comprehension."
      ]
    },
    {
      "cell_type": "code",
      "metadata": {
        "colab": {
          "base_uri": "https://localhost:8080/"
        },
        "id": "erOjlc3VW6gF",
        "outputId": "2faf9521-bb7e-49a2-cae1-d54963fe79b6"
      },
      "source": [
        "def lista_pares(size = 10, min = 1, max = 100):\n",
        "\n",
        "  lista = []\n",
        "\n",
        "  while len(lista) < 10:\n",
        "    numero = random.randint(min, max)\n",
        "\n",
        "    if numero % 2 == 0:\n",
        "      lista.append(numero)\n",
        "\n",
        "  return lista\n",
        "\n",
        "print(lista_pares())"
      ],
      "execution_count": null,
      "outputs": [
        {
          "output_type": "stream",
          "text": [
            "[20, 20, 2, 60, 14, 66, 80, 90, 58, 2]\n"
          ],
          "name": "stdout"
        }
      ]
    },
    {
      "cell_type": "code",
      "metadata": {
        "colab": {
          "base_uri": "https://localhost:8080/"
        },
        "id": "ezVx-XudW8gX",
        "outputId": "68eb95bd-0219-4bca-ccc9-4da54151a084"
      },
      "source": [
        "def lista_pares(size = 10, min = 1, max = 100):\n",
        "  return [(lambda x: x if x % 2 == 0 else x+1)(random.randint(min, max)) for _ in range(size)]\n",
        "  #return [(lambda x: x % 2== 0 and x or x + 1)(random.randint(min, max)) for _ in range(size)]\n",
        "\n",
        "print(lista_pares())\n"
      ],
      "execution_count": null,
      "outputs": [
        {
          "output_type": "stream",
          "text": [
            "[30, 50, 26, 18, 4, 48, 88, 86, 52, 12]\n"
          ],
          "name": "stdout"
        }
      ]
    },
    {
      "cell_type": "markdown",
      "metadata": {
        "id": "-FumLyRiW_M9"
      },
      "source": [
        "6. Escribe una función que ordene de manera ascendente una lista que contiene tuplas de 2 numeros; considerando el segundo valor como el elemento para ordenar."
      ]
    },
    {
      "cell_type": "code",
      "metadata": {
        "colab": {
          "base_uri": "https://localhost:8080/"
        },
        "id": "OShFN8kqXBQG",
        "outputId": "4f2b960b-510d-4bee-9b20-84c52b5f2472"
      },
      "source": [
        "def ordena_lista_tuplas(lista):\n",
        "  return sorted(lista, key = lambda x: x[1])\n",
        "\n",
        "lista = [(random.randint(1, 10), random.randint(1, 10)) for _ in range(10)]\n",
        "print(lista)\n",
        "print(ordena_lista_tuplas(lista))"
      ],
      "execution_count": null,
      "outputs": [
        {
          "output_type": "stream",
          "text": [
            "[(10, 1), (5, 5), (9, 10), (6, 2), (1, 8), (1, 8), (2, 10), (6, 5), (6, 6), (10, 4)]\n",
            "[(10, 1), (6, 2), (10, 4), (5, 5), (6, 5), (6, 6), (1, 8), (1, 8), (9, 10), (2, 10)]\n"
          ],
          "name": "stdout"
        }
      ]
    },
    {
      "cell_type": "markdown",
      "metadata": {
        "id": "uTMee4TeXDOJ"
      },
      "source": [
        "7. Escribe una función que revise una lista de cadenas de texto, y regrese una nueva lista con las cadenas que sean más largas que n."
      ]
    },
    {
      "cell_type": "code",
      "metadata": {
        "colab": {
          "base_uri": "https://localhost:8080/"
        },
        "id": "7YfY6zNCXE3Z",
        "outputId": "244428c2-289c-4120-9d9d-9f242d930434"
      },
      "source": [
        "def filtro_lista_string(size, lista):\n",
        "  return [string_ for string_ in lista if len(string_) >= size]\n",
        "\n",
        "lista = [palabraRandom(random.randint(5, 10)) for _ in range(10)]\n",
        "\n",
        "print(lista)\n",
        "print(filtro_lista_string(8, lista))"
      ],
      "execution_count": null,
      "outputs": [
        {
          "output_type": "stream",
          "text": [
            "['mmmGJwLpUj', 'XoaLmnl', 'RDoRcgiZ', 'ysJEVmlvp', 'aReDQlps', 'WgHra', 'hPjqKPvgwh', 'AwAgmdDzB', 'yUMbvmcw', 'ZSVsn']\n",
            "['mmmGJwLpUj', 'RDoRcgiZ', 'ysJEVmlvp', 'aReDQlps', 'hPjqKPvgwh', 'AwAgmdDzB', 'yUMbvmcw']\n"
          ],
          "name": "stdout"
        }
      ]
    },
    {
      "cell_type": "markdown",
      "metadata": {
        "id": "HpaQqmQXXGr0"
      },
      "source": [
        ""
      ]
    },
    {
      "cell_type": "markdown",
      "metadata": {
        "id": "pCHGpm7yXGze"
      },
      "source": [
        "8. Escribe una función que regrese una lista de 3 dimensiones: w x h x d. Cada elemento dentro de la lista deberá de ser una tupla de la siguiente forma: (w, h, d)."
      ]
    },
    {
      "cell_type": "code",
      "metadata": {
        "colab": {
          "base_uri": "https://localhost:8080/"
        },
        "id": "F7dhvuH1XJRv",
        "outputId": "54405be9-8655-4de8-f45d-3a7d13a924a6"
      },
      "source": [
        "def matriz(w, h, d):\n",
        "  lista = []\n",
        "\n",
        "  for depth_ in range(d):\n",
        "    s = []\n",
        "    for row_ in range(h):\n",
        "      r = []\n",
        "      for col_ in range(w):\n",
        "        r.append( (col_, row_, depth_) )\n",
        "      s.append(r)\n",
        "    lista.append(s)\n",
        "  \n",
        "  return s\n",
        "\n",
        "print(matriz(3, 3, 3)) "
      ],
      "execution_count": null,
      "outputs": [
        {
          "output_type": "stream",
          "text": [
            "[[(0, 0, 2), (1, 0, 2), (2, 0, 2)], [(0, 1, 2), (1, 1, 2), (2, 1, 2)], [(0, 2, 2), (1, 2, 2), (2, 2, 2)]]\n"
          ],
          "name": "stdout"
        }
      ]
    },
    {
      "cell_type": "markdown",
      "metadata": {
        "id": "oLUWzLYGXabB"
      },
      "source": [
        "9. Escribe una función que revise una lista con tuplas, y quite todas las tuplas repetidas."
      ]
    },
    {
      "cell_type": "code",
      "metadata": {
        "colab": {
          "base_uri": "https://localhost:8080/"
        },
        "id": "UTjYGw25Xcg2",
        "outputId": "5d38e896-0dbe-46ad-ca55-01e2e89ef9bf"
      },
      "source": [
        "def quitar_duplicados(lista):\n",
        "  filtered = []\n",
        "  for element in lista:\n",
        "    if element not in filtered:\n",
        "      filtered.append(element)\n",
        "    else:\n",
        "      print(f\"Se quitó el elemento {element}\")\n",
        "  \n",
        "  return filtered\n",
        "\n",
        "def quitar_duplicados_2(lista):\n",
        "  return list(dict.fromkeys(lista))\n",
        "\n",
        "def quitar_duplicados_3(lista):\n",
        "  filtered = []\n",
        "  [filtered.append(x) for x in lista if x not in filtered]\n",
        "  return filtered\n",
        "\n",
        "def quitar_duplicados_4(lista):\n",
        "  return [element for idx, element in enumerate(lista) if element not in lista[:idx]]\n",
        "  \n",
        "\n",
        "lista = [(6, 9), (7, 7), (8, 5), (8, 6), (7, 10), (7, 6), (8, 6), (7, 10), (10, 7), (7, 7)]\n",
        "print(lista)\n",
        "print(quitar_duplicados(lista))\n",
        "print(quitar_duplicados_2(lista))\n",
        "print(quitar_duplicados_3(lista))\n",
        "print(quitar_duplicados_4(lista))"
      ],
      "execution_count": null,
      "outputs": [
        {
          "output_type": "stream",
          "text": [
            "[(6, 9), (7, 7), (8, 5), (8, 6), (7, 10), (7, 6), (8, 6), (7, 10), (10, 7), (7, 7)]\n",
            "Se quitó el elemento (8, 6)\n",
            "Se quitó el elemento (7, 10)\n",
            "Se quitó el elemento (7, 7)\n",
            "[(6, 9), (7, 7), (8, 5), (8, 6), (7, 10), (7, 6), (10, 7)]\n",
            "[(6, 9), (7, 7), (8, 5), (8, 6), (7, 10), (7, 6), (10, 7)]\n",
            "[(6, 9), (7, 7), (8, 5), (8, 6), (7, 10), (7, 6), (10, 7)]\n",
            "[(6, 9), (7, 7), (8, 5), (8, 6), (7, 10), (7, 6), (10, 7)]\n"
          ],
          "name": "stdout"
        }
      ]
    },
    {
      "cell_type": "markdown",
      "metadata": {
        "id": "ueHi0ZpKX4wx"
      },
      "source": [
        "10. Escribe una función que regrese una sublista de una lista. Solicita los valores n y m,  que indican la posición de inicio, y de fin, respectivamente, de los elementos de la lista original que estarán en la sublista."
      ]
    },
    {
      "cell_type": "code",
      "metadata": {
        "colab": {
          "base_uri": "https://localhost:8080/"
        },
        "id": "bgvUCFXnX5Zz",
        "outputId": "ea625cb2-98e9-450d-b359-5ff508117a07"
      },
      "source": [
        "def sublista(lista, n, m):\n",
        "  if len(lista) > n > 0 and 0 < m < len(lista):\n",
        "    return lista[n:m]\n",
        "  else:\n",
        "    return lista\n",
        "\n",
        "lista = [23, 37, 88, 15, 70, 74, 92, 48, 63, 33, 37, 4, 26, 73, 2, 37, 10, 79, 6, 93]\n",
        "\n",
        "print(sublista(lista, 5, 10))"
      ],
      "execution_count": null,
      "outputs": [
        {
          "output_type": "stream",
          "text": [
            "[74, 92, 48, 63, 33]\n"
          ],
          "name": "stdout"
        }
      ]
    },
    {
      "cell_type": "markdown",
      "metadata": {
        "id": "yalxd3b8X8l7"
      },
      "source": [
        "11. Crea dos clases:\n",
        "- Persona con nombre, apellido, y edad.\n",
        "- Estudiante, que tiene como clase padre a Persona, y que tiene además matrícula.\n",
        "- Agrega métodos a cada clase para imprimir la información del objeto."
      ]
    },
    {
      "cell_type": "code",
      "metadata": {
        "colab": {
          "base_uri": "https://localhost:8080/"
        },
        "id": "JJPWxKP7X-t4",
        "outputId": "608fd604-e9dc-4700-f8c7-ae3f2644a3ae"
      },
      "source": [
        "class Person:\n",
        "\n",
        "  # Constructor\n",
        "  def __init__(self, name, surname, age):\n",
        "    self.name = name\n",
        "    self.surname = surname\n",
        "    self.age = age\n",
        "  \n",
        "  def print_info(self):\n",
        "    print(f\"Nombre: {self.name} Apellido: {self.surname} Edad: {self.age}\")\n",
        "\n",
        "persona_1 = Person('Alicia', 'Perez', '23')\n",
        "persona_2 = Person('Octavio', 'Navarro', '23')\n",
        "\n",
        "persona_1.print_info()\n",
        "persona_2.print_info()"
      ],
      "execution_count": null,
      "outputs": [
        {
          "output_type": "stream",
          "text": [
            "Nombre: Alicia Apellido: Perez Edad: 23\n",
            "Nombre: Octavio Apellido: Navarro Edad: 23\n"
          ],
          "name": "stdout"
        }
      ]
    },
    {
      "cell_type": "code",
      "metadata": {
        "colab": {
          "base_uri": "https://localhost:8080/"
        },
        "id": "PTcZFs_kYArJ",
        "outputId": "db12bc3f-75cf-4b3b-b778-fcdf14c99c49"
      },
      "source": [
        "class Student(Person):\n",
        "\n",
        "  def __init__(self, name, surname, age, matricula):\n",
        "    Person.__init__(self, name, surname, age)\n",
        "    self.matricula = matricula\n",
        "\n",
        "  def print_info(self):\n",
        "    Person.print_info(self)\n",
        "    print(f\"Matricula: {self.matricula}\")\n",
        "\n",
        "student = Student('Octavio', 'Navarro', '45', '12123')\n",
        "\n",
        "student.print_info()"
      ],
      "execution_count": null,
      "outputs": [
        {
          "output_type": "stream",
          "text": [
            "Nombre: Octavio Apellido: Navarro Edad: 45\n",
            "Matricula: 12123\n"
          ],
          "name": "stdout"
        }
      ]
    }
  ]
}
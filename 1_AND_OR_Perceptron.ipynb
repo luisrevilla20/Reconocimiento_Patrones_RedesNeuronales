{
  "nbformat": 4,
  "nbformat_minor": 0,
  "metadata": {
    "kernelspec": {
      "display_name": "Python 3",
      "language": "python",
      "name": "python3"
    },
    "language_info": {
      "codemirror_mode": {
        "name": "ipython",
        "version": 3
      },
      "file_extension": ".py",
      "mimetype": "text/x-python",
      "name": "python",
      "nbconvert_exporter": "python",
      "pygments_lexer": "ipython3",
      "version": "3.6.8"
    },
    "colab": {
      "name": "1. AND OR Perceptron.ipynb",
      "provenance": [],
      "collapsed_sections": [],
      "include_colab_link": true
    }
  },
  "cells": [
    {
      "cell_type": "markdown",
      "metadata": {
        "id": "view-in-github",
        "colab_type": "text"
      },
      "source": [
        "<a href=\"https://colab.research.google.com/github/luisrevilla20/Reconocimiento_Patrones_RedesNeuronales/blob/main/1_AND_OR_Perceptron.ipynb\" target=\"_parent\"><img src=\"https://colab.research.google.com/assets/colab-badge.svg\" alt=\"Open In Colab\"/></a>"
      ]
    },
    {
      "cell_type": "markdown",
      "metadata": {
        "id": "UmzxNhOa8GF6"
      },
      "source": [
        "# The Perceptron Algorithm"
      ]
    },
    {
      "cell_type": "markdown",
      "metadata": {
        "id": "L7XEefN-8GF9"
      },
      "source": [
        "A Perceptron is a system that learns using labeled examples of feature vectors, mapping these inputs to their corresponding output class labels. In its simplest form, a Perceptron contains N input nodes, one for each entry in the input row, followed by only one layer in the network with just a single node in that layer."
      ]
    },
    {
      "cell_type": "markdown",
      "metadata": {
        "id": "N_HrrPXf8GF-"
      },
      "source": [
        "Training a Perceptron is a fairly straightforward operation. Our goal is to obtain a set of weights *w* that accurately classifies each instance in our training set. In order to train our Perceptron, we iteratively feed the network our training data multiple times. Each time the network has seen the full set of training data, we say an epoch has passed. It normally takes many epochs until a weight vector _w_ can be learned to linearly separate our two classes of data."
      ]
    },
    {
      "cell_type": "markdown",
      "metadata": {
        "id": "EYVOOpEfFxR4"
      },
      "source": [
        "![Perceptron](https://drive.google.com/uc?id=1K7olbB11mSfAwPmB8BeeRNe6XbuGSK4D)"
      ]
    },
    {
      "cell_type": "markdown",
      "metadata": {
        "id": "YmywjsFM8GF-"
      },
      "source": [
        "The pseudocode is the following:\n",
        "1. Initialize our weight vector w with small random values\n",
        "2. Until Perceptron converges\n",
        "    1. Loop over each input and class label\n",
        "    2. Take $x$ and pass it through the network, calculating the output value: $y = (w · x)$\n",
        "    3. Update the weights: if ŷ = 0 --> $w_i = w_i + \\alpha x_i$, if ŷ = 1 --> $w_i = w_i - \\alpha x_i$\n",
        "        "
      ]
    },
    {
      "cell_type": "code",
      "metadata": {
        "id": "OSYcra3n8iUG"
      },
      "source": [
        "import random, math\n",
        "import numpy as np\n",
        "import matplotlib.pyplot as plt"
      ],
      "execution_count": 3,
      "outputs": []
    },
    {
      "cell_type": "markdown",
      "metadata": {
        "id": "Z34xRPCEY9GD"
      },
      "source": [
        "## Perceptron\n",
        "--- \n"
      ]
    },
    {
      "cell_type": "code",
      "metadata": {
        "id": "nYXUulX-8GGA"
      },
      "source": [
        "class Perceptron:        \n",
        "    \"\"\"Perceptron class\n",
        "\n",
        "        Args:\n",
        "            N: Number of variables\n",
        "            M: Number of inputs\n",
        "            alpha: Learning rate\n",
        "        \n",
        "        Attributes:\n",
        "            W: The weights for the perceptron\n",
        "            b: bias\n",
        "            alpha: The learning rate\n",
        "    \"\"\"\n",
        "    def __init__(self, N, alpha=0.1):        \n",
        "        # Creates an array of N weights and initializes with random values\n",
        "        self.W = np.array( [ random.uniform(-1, 1) for _ in range(N) ] )\n",
        "        self.b = random.uniform(-1, 1)\n",
        "        self.losses = []\n",
        "        self.alpha = alpha\n",
        "            \n",
        "    def _sigmoid(self, x):\n",
        "        return 1/(1+math.e**(-x))\n",
        "\n",
        "    def _loss(self, y, y_hat):\n",
        "        return -(y * math.log(y_hat, math.e) + (1-y) * math.log((1-y_hat), math.e))\n",
        "    \n",
        "    def predict(self, x):    \n",
        "        \"\"\"\n",
        "            Makes a prediction for the specified input\n",
        "            \n",
        "            Args:\n",
        "                x: Input to make a prediction on.\n",
        "        \"\"\"        \n",
        "        return self._sigmoid( np.dot(x, self.W) + self.b)\n",
        "    \n",
        "    def perceptronStep(self, X, y):\n",
        "        \"\"\"\n",
        "            The perceptron basic step. It updates the weights based on the input data.\n",
        "            \n",
        "            Args:\n",
        "                X: Array with the input data\n",
        "                y: Data labels\n",
        "        \"\"\"\n",
        "        ds = [0] * len( self.W )\n",
        "        db = 0\n",
        "        for i in range( len(X) ):\n",
        "            y_hat = self._sigmoid( np.dot(X[i], self.W) + self.b )\n",
        "            d_y = y_hat - y[i][0]\n",
        "\n",
        "            for j in range( len(ds) ):\n",
        "                ds[j] += X[i][0] * d_y\n",
        "            db += d_y\n",
        "\n",
        "            self.losses.append( self._loss( y[i][0], y_hat ) )\n",
        "        for k in range( len(ds) ):\n",
        "            self.W[k] -= self.alpha * ds[k]\n",
        "        self.b -= self.alpha * db\n",
        " \n",
        "    def train(self, X, y, epochs = 10):\n",
        "        \"\"\"\n",
        "            Runs the perceptron step a specified number of epochs\n",
        "            \n",
        "            Args:\n",
        "                X: input data\n",
        "                y: labels\n",
        "                epochs: The number of times the step is executed\n",
        "        \"\"\"\n",
        "        # loop over the desired epochs\n",
        "        for epoch in range(epochs):\n",
        "            self.perceptronStep(X, y)\n",
        "\n",
        "    def plot_losses(self):\n",
        "        plt.plot(self.losses)\n",
        "        plt.show()"
      ],
      "execution_count": 4,
      "outputs": []
    },
    {
      "cell_type": "markdown",
      "metadata": {
        "id": "-YpxaCfeZJ_8"
      },
      "source": [
        "### Perceptron AND\n",
        "-----\n"
      ]
    },
    {
      "cell_type": "code",
      "metadata": {
        "id": "nZfEuLw48GGB",
        "colab": {
          "base_uri": "https://localhost:8080/",
          "height": 377
        },
        "outputId": "6ddc3df3-50d5-411a-d275-a3a0edc5dad7"
      },
      "source": [
        "# change the seed to see different solutions\n",
        "random.seed(42)\n",
        "\n",
        "# The following data is used to train the perceptron for the AND operation\n",
        "# Test your code with the OR operation\n",
        "X = np.array([[1,1],\n",
        "                [1,0],\n",
        "                [0,1],\n",
        "                [0,0]])\n",
        "y_labels = np.array([[1],\n",
        "                    [0],\n",
        "                    [0],\n",
        "                    [0]])\n",
        "\n",
        "p_AND = Perceptron( len(X[0]) )\n",
        "print(f\"Initial weights {p_AND.W}\")\n",
        "\n",
        "# Test training with different epochs\n",
        "# Test training with different epochs\n",
        "p_AND.train(X, y_labels, 5000)\n",
        "print(f\"Weights after training {p_AND.W}\")\n",
        "\n",
        "p_AND.plot_losses()\n",
        "\n",
        "print('Predict [1,1]:', p_AND.predict( [1,1] ) )\n",
        "print('Predict [1,0]:', p_AND.predict( [1,0] ) )\n",
        "print('Predict [0,1]:', p_AND.predict( [0,1] ) )\n",
        "print('Predict [0,0]:', p_AND.predict( [0,0] ) )\n",
        "\n",
        "# Test your model with a prediction"
      ],
      "execution_count": 5,
      "outputs": [
        {
          "output_type": "stream",
          "text": [
            "Initial weights [ 0.2788536  -0.94997849]\n",
            "Weights after training [7.90425045 6.67541836]\n"
          ],
          "name": "stdout"
        },
        {
          "output_type": "display_data",
          "data": {
            "image/png": "[encoded data removed]",
            "text/plain": [
              "<Figure size 432x288 with 1 Axes>"
            ]
          },
          "metadata": {
            "tags": [],
            "needs_background": "light"
          }
        },
        {
          "output_type": "stream",
          "text": [
            "Predict [1,1]: 0.9637018344457611\n",
            "Predict [1,0]: 0.03240804972625689\n",
            "Predict [0,1]: 0.0097062106171914\n",
            "Predict [0,0]: 1.236468130071135e-05\n"
          ],
          "name": "stdout"
        }
      ]
    },
    {
      "cell_type": "markdown",
      "metadata": {
        "id": "lAxqxr7o7Quv"
      },
      "source": [
        "### Perceptron OR\n",
        "-----\n"
      ]
    },
    {
      "cell_type": "code",
      "metadata": {
        "colab": {
          "base_uri": "https://localhost:8080/",
          "height": 377
        },
        "id": "JCbSHlAY7ZNv",
        "outputId": "3074b97a-ad70-4d45-f13e-1ee2ca80541a"
      },
      "source": [
        "# change the seed to see different solutions\n",
        "random.seed(42)\n",
        "\n",
        "# The following data is used to train the perceptron for the AND operation\n",
        "# Test your code with the OR operation\n",
        "X = np.array([[1,1],\n",
        "                [1,0],\n",
        "                [0,1],\n",
        "                [0,0]])\n",
        "y_labels = np.array([[1],\n",
        "                    [1],\n",
        "                    [1],\n",
        "                    [0]])\n",
        "\n",
        "p_OR = Perceptron( len(X[0]) )\n",
        "print(f\"Initial weights {p_OR.W}\")\n",
        "\n",
        "# Test training with different epochs\n",
        "# Test training with different epochs\n",
        "p_OR.train(X, y_labels, 5000)\n",
        "print(f\"Weights after training {p_OR.W}\")\n",
        "\n",
        "p_OR.plot_losses()\n",
        "\n",
        "print('Predict [1,1]:', p_OR.predict( [1,1] ) )\n",
        "print('Predict [1,0]:', p_OR.predict( [1,0] ) )\n",
        "print('Predict [0,1]:', p_OR.predict( [0,1] ) )\n",
        "print('Predict [0,0]:', p_OR.predict( [0,0] ) )\n",
        "# Test your model with a prediction"
      ],
      "execution_count": 6,
      "outputs": [
        {
          "output_type": "stream",
          "text": [
            "Initial weights [ 0.2788536  -0.94997849]\n",
            "Weights after training [9.42817461 8.19934252]\n"
          ],
          "name": "stdout"
        },
        {
          "output_type": "display_data",
          "data": {
            "image/png": "[encoded data removed]",
            "text/plain": [
              "<Figure size 432x288 with 1 Axes>"
            ]
          },
          "metadata": {
            "tags": [],
            "needs_background": "light"
          }
        },
        {
          "output_type": "stream",
          "text": [
            "Predict [1,1]: 0.999998893862147\n",
            "Predict [1,0]: 0.9959913833327255\n",
            "Predict [0,1]: 0.9864330706079419\n",
            "Predict [0,0]: 0.019591333112362636\n"
          ],
          "name": "stdout"
        }
      ]
    },
    {
      "cell_type": "markdown",
      "metadata": {
        "id": "brqtVcj86fy1"
      },
      "source": [
        "### Numpy Perceptron\n",
        "-----\n"
      ]
    },
    {
      "cell_type": "code",
      "metadata": {
        "id": "lBWcCOtbZT76"
      },
      "source": [
        "class NumpyPerceptron:\n",
        "    def __init__(self, N, alpha=0.1):        \n",
        "        # Creates an array of N weights and initializes with random values\n",
        "        self.N = N\n",
        "        self.W = np.array( [ random.uniform(-1, 1) for _ in range(N) ] )\n",
        "        self.b = random.uniform(-1, 1)\n",
        "        self.losses = []\n",
        "        self.alpha = alpha\n",
        "            \n",
        "    def _sigmoid(self, x):\n",
        "        return 1 / (1 + np.exp(1)**(-x))\n",
        "    \n",
        "    def _loss(self, y, y_hat):\n",
        "        return -(y * np.log(y_hat) + (1-y) * np.log(1-y_hat))\n",
        "    \n",
        "    def predict(self, x):\n",
        "        return self._sigmoid( np.dot(self.W, x) + self.b )\n",
        "    \n",
        "    def perceptronStep(self, X, y):\n",
        "        dw = np.zeros( (self.N, 1) )\n",
        "        db = 0\n",
        "        error = 0\n",
        "\n",
        "        y_hat = self._sigmoid( np.dot(self.W, X) + self.b )\n",
        "        \n",
        "        error = np.mean( np.sum(self._loss( y, y_hat )) )\n",
        "        self.losses.append( error )\n",
        "        \n",
        "        d_y = y_hat - y\n",
        "        \n",
        "        mat_mul_dw = np.matmul(X, d_y.T)\n",
        "        dw += mat_mul_dw\n",
        "        dw /= len(X[0])\n",
        "        dw *= self.alpha\n",
        "        \n",
        "        self.W = np.subtract( self.W , dw.T )\n",
        "\n",
        "        db += np.sum(d_y)\n",
        "        db /= len(X[0])\n",
        "        self.b -= self.alpha * db\n",
        "\n",
        "    def train(self, X, y, epochs = 10):\n",
        "        for _ in range(epochs):\n",
        "            self.perceptronStep(X, y)\n",
        "            \n",
        "    def plot_losses(self):\n",
        "        plt.plot(self.losses)\n",
        "        plt.show()"
      ],
      "execution_count": 13,
      "outputs": []
    },
    {
      "cell_type": "markdown",
      "metadata": {
        "id": "ojFLxI4kZ2vT"
      },
      "source": [
        "### Numpy Perceptron AND\n",
        "-----"
      ]
    },
    {
      "cell_type": "code",
      "metadata": {
        "colab": {
          "base_uri": "https://localhost:8080/",
          "height": 377
        },
        "id": "ApTURXAvZ26v",
        "outputId": "41f40da8-8c86-44b7-f51a-4da04f0fde23"
      },
      "source": [
        "# The following data is used to train the perceptron for the AND operation\n",
        "np.random.seed(42)\n",
        "X = np.array([[1,1],\n",
        "                [1,0],\n",
        "                [0,1],\n",
        "                [0,0]]).T\n",
        "y_labels = np.array([[1],\n",
        "                    [0],\n",
        "                    [0],\n",
        "                    [0]]).T\n",
        "p_AND = NumpyPerceptron( len(X) )\n",
        "print(f\"Initial weights {p_AND.W}\")\n",
        "\n",
        "# Test training with different epochs\n",
        "p_AND.train(X, y_labels, 5000)\n",
        "print(f\"Weights after training {p_AND.W}\")\n",
        "\n",
        "p_AND.plot_losses()\n",
        "\n",
        "print('Predict [1,1]:', p_AND.predict( [1,1] ) )\n",
        "print('Predict [1,0]:', p_AND.predict( [1,0] ) )\n",
        "print('Predict [0,1]:', p_AND.predict( [0,1] ) )\n",
        "print('Predict [0,0]:', p_AND.predict( [0,0] ) )"
      ],
      "execution_count": 14,
      "outputs": [
        {
          "output_type": "stream",
          "text": [
            "Initial weights [-0.94040556 -0.56272405]\n",
            "Weights after training [[5.99274351 5.99274856]]\n"
          ],
          "name": "stdout"
        },
        {
          "output_type": "display_data",
          "data": {
            "image/png": "[encoded data removed]",
            "text/plain": [
              "<Figure size 432x288 with 1 Axes>"
            ]
          },
          "metadata": {
            "tags": [],
            "needs_background": "light"
          }
        },
        {
          "output_type": "stream",
          "text": [
            "Predict [1,1]: [0.94369457]\n",
            "Predict [1,0]: [0.0401661]\n",
            "Predict [0,1]: [0.04016629]\n",
            "Predict [0,0]: [0.00010447]\n"
          ],
          "name": "stdout"
        }
      ]
    },
    {
      "cell_type": "markdown",
      "metadata": {
        "id": "H_Y37kGLaIR9"
      },
      "source": [
        "### Numpy Perceptron OR\n",
        "-----"
      ]
    },
    {
      "cell_type": "code",
      "metadata": {
        "colab": {
          "base_uri": "https://localhost:8080/",
          "height": 377
        },
        "id": "q0QIN1uWaLij",
        "outputId": "9f51cea9-193c-4949-cb87-fc2116a946d6"
      },
      "source": [
        "# The following data is used to train the perceptron for the AND operation\n",
        "X = np.array([[1,1],\n",
        "                [1,0],\n",
        "                [0,1],\n",
        "                [0,0]]).T\n",
        "y_labels = np.array([[1],\n",
        "                    [1],\n",
        "                    [1],\n",
        "                    [0]]).T\n",
        "\n",
        "p_OR = NumpyPerceptron( 2 )\n",
        "print(f\"Initial weights {p_OR.W}\")\n",
        "\n",
        "# Test training with different epochs\n",
        "p_OR.train(X, y_labels, 5000)\n",
        "print(f\"Weights after training {p_OR.W}\")\n",
        "\n",
        "p_OR.plot_losses()\n",
        "\n",
        "print('Predict [1,1]:', p_OR.predict( [1,1] ) )\n",
        "print('Predict [1,0]:', p_OR.predict( [1,0] ) )\n",
        "print('Predict [0,1]:', p_OR.predict( [0,1] ) )\n",
        "print('Predict [0,0]:', p_OR.predict( [0,0] ) )"
      ],
      "execution_count": 15,
      "outputs": [
        {
          "output_type": "stream",
          "text": [
            "Initial weights [-0.94692806 -0.6023247 ]\n",
            "Weights after training [[7.20470049 7.20549287]]\n"
          ],
          "name": "stdout"
        },
        {
          "output_type": "display_data",
          "data": {
            "image/png": "[encoded data removed]",
            "text/plain": [
              "<Figure size 432x288 with 1 Axes>"
            ]
          },
          "metadata": {
            "tags": [],
            "needs_background": "light"
          }
        },
        {
          "output_type": "stream",
          "text": [
            "Predict [1,1]: [0.99998738]\n",
            "Predict [1,0]: [0.98329186]\n",
            "Predict [0,1]: [0.98330487]\n",
            "Predict [0,0]: [0.04189902]\n"
          ],
          "name": "stdout"
        }
      ]
    }
  ]
}